{
 "cells": [
  {
   "cell_type": "code",
   "execution_count": 9,
   "metadata": {
    "ExecuteTime": {
     "end_time": "2019-10-09T17:51:08.690581Z",
     "start_time": "2019-10-09T17:51:08.677244Z"
    }
   },
   "outputs": [],
   "source": [
    "# Imports\n",
    "%matplotlib inline\n",
    "import os\n",
    "import cv2\n",
    "import numpy as np\n",
    "import matplotlib.pyplot as plt\n",
    "import matplotlib.cm as cm\n",
    "import matplotlib as mpl\n",
    "import scipy.signal as signal\n",
    "\n",
    "from remove_dc_from_spad import remove_dc_from_spad_edge\n",
    "from capture_utils import load_spad\n",
    "from matplotlib.ticker import FormatStrFormatter\n",
    "\n",
    "from capture_utils import savefig_no_whitespace\n",
    "\n",
    "scene = \"8_30_small_lab_scene\"\n",
    "# scene = \"8_29_kitchen_scene\"\n",
    "# scene = \"8_30_conference_room2_scene\"\n",
    "model = \"midas\"\n",
    "scenedir = os.path.join(\"figures\", model, scene)\n",
    "rootdir = os.path.join(\"data\", scene)"
   ]
  },
  {
   "cell_type": "code",
   "execution_count": 24,
   "metadata": {
    "ExecuteTime": {
     "end_time": "2019-10-09T17:55:36.893662Z",
     "start_time": "2019-10-09T17:55:36.849168Z"
    }
   },
   "outputs": [],
   "source": [
    "# Load SPAD and intermediates\n",
    "spad_hists = {}\n",
    "for file in [\"spad_single_relevant\", \"spad_denoised\", \"spad_corrected\", \"spad_sid\"]:\n",
    "    spad_hists[file] = np.load(os.path.join(scenedir, file + \".npy\"))\n",
    "intermediates = np.load(os.path.join(scenedir, \"intermediates.npy\"), allow_pickle=True).item()\n",
    "spad_metadata = np.load(os.path.join(scenedir, \"spad_metadata.npy\"), allow_pickle=True).item()\n",
    "spad_metadata[\"init_bin_edges\"] = spad_metadata[\"init_bin_edges:\"]\n",
    "# Extract stuff\n",
    "bin_edges = spad_metadata[\"init_bin_edges\"]\n",
    "bin_values = spad_metadata[\"init_bin_values\"]\n",
    "init_sid_bin_edges = spad_metadata[\"init_sid_bin_edges\"]\n",
    "init_sid_bin_values = spad_metadata[\"init_sid_bin_values\"][:-2]\n",
    "pred_sid_bin_edges = spad_metadata[\"pred_sid_bin_edges\"]\n",
    "pred_sid_bin_values = spad_metadata[\"pred_sid_bin_values\"][:-2]\n",
    "ambient_estimate = spad_metadata[\"ambient_estimate\"]"
   ]
  },
  {
   "cell_type": "code",
   "execution_count": 23,
   "metadata": {
    "ExecuteTime": {
     "end_time": "2019-10-09T17:55:25.433671Z",
     "start_time": "2019-10-09T17:55:25.426771Z"
    }
   },
   "outputs": [
    {
     "data": {
      "text/plain": [
       "602"
      ]
     },
     "execution_count": 23,
     "metadata": {},
     "output_type": "execute_result"
    }
   ],
   "source": [
    "len(init_sid_bin_values)"
   ]
  },
  {
   "cell_type": "code",
   "execution_count": 26,
   "metadata": {
    "ExecuteTime": {
     "end_time": "2019-10-09T18:00:04.308851Z",
     "start_time": "2019-10-09T17:59:09.639535Z"
    }
   },
   "outputs": [
    {
     "data": {
      "image/png": "[encoded data removed]",
      "text/plain": [
       "<Figure size 432x288 with 1 Axes>"
      ]
     },
     "metadata": {
      "needs_background": "light"
     },
     "output_type": "display_data"
    },
    {
     "data": {
      "image/png": "[encoded data removed]",
      "text/plain": [
       "<Figure size 432x288 with 1 Axes>"
      ]
     },
     "metadata": {
      "needs_background": "light"
     },
     "output_type": "display_data"
    },
    {
     "data": {
      "image/png": "[encoded data removed]",
      "text/plain": [
       "<Figure size 432x288 with 1 Axes>"
      ]
     },
     "metadata": {
      "needs_background": "light"
     },
     "output_type": "display_data"
    },
    {
     "data": {
      "image/png": "[encoded data removed]",
      "text/plain": [
       "<Figure size 432x288 with 1 Axes>"
      ]
     },
     "metadata": {
      "needs_background": "light"
     },
     "output_type": "display_data"
    },
    {
     "data": {
      "image/png": "[encoded data removed]",
      "text/plain": [
       "<Figure size 432x288 with 1 Axes>"
      ]
     },
     "metadata": {
      "needs_background": "light"
     },
     "output_type": "display_data"
    }
   ],
   "source": [
    "# Plot and save stuff\n",
    "ymin = 2e4\n",
    "ymax = 5e6\n",
    "# Raw SPAD\n",
    "plt.figure()\n",
    "plt.bar(bin_values, spad_hists[\"spad_single_relevant\"],  log=True, width=0.001)\n",
    "plt.xlabel(\"Depth (m)\")\n",
    "plt.ylabel(\"Counts\")\n",
    "plt.ylim([ymin, ymax])\n",
    "plt.savefig(os.path.join(scenedir, \"spad_single_relevant.pdf\"), bbox_inches=\"tight\")\n",
    "\n",
    "# Remove ambient\n",
    "plt.figure()\n",
    "plt.bar(bin_values, spad_hists[\"spad_denoised\"], log=True, width=0.001)\n",
    "plt.xlabel(\"Depth (m)\")\n",
    "plt.ylabel(\"Counts\")\n",
    "plt.ylim([ymin, ymax])\n",
    "plt.savefig(os.path.join(scenedir, \"spad_denoised.pdf\"), bbox_inches=\"tight\")\n",
    "\n",
    "# Correct falloff\n",
    "plt.figure()\n",
    "plt.bar(bin_values, spad_hists[\"spad_corrected\"], log=True, width=0.001)\n",
    "plt.xlabel(\"Depth (m)\")\n",
    "plt.ylabel(\"Counts\")\n",
    "plt.ylim([ymin, ymax])\n",
    "plt.savefig(os.path.join(scenedir, \"spad_corrected.pdf\"), bbox_inches=\"tight\")\n",
    "\n",
    "# Re-bin\n",
    "plt.figure()\n",
    "plt.bar(init_sid_bin_values, spad_hists[\"spad_sid\"], log=True, width=0.001)\n",
    "plt.xlabel(\"Depth (m)\")\n",
    "plt.ylabel(\"Counts\")\n",
    "plt.ylim([ymin, ymax])\n",
    "plt.savefig(os.path.join(scenedir, \"spad_sid.pdf\"), bbox_inches=\"tight\")\n",
    "\n",
    "# Intensity-weighted histogram\n",
    "plt.figure()\n",
    "plt.imshow(intermediates[\"T_count\"])\n",
    "plt.savefig(os.path.join(scenedir, \"T_count.pdf\"), bbox_inches=\"tight\")\n",
    "\n"
   ]
  },
  {
   "cell_type": "code",
   "execution_count": null,
   "metadata": {},
   "outputs": [],
   "source": []
  },
  {
   "cell_type": "code",
   "execution_count": 17,
   "metadata": {
    "ExecuteTime": {
     "end_time": "2019-10-09T07:51:27.115810Z",
     "start_time": "2019-10-09T07:51:27.111132Z"
    }
   },
   "outputs": [
    {
     "data": {
      "text/plain": [
       "array([0., 0., 0., ..., 0., 0., 0.], dtype=float32)"
      ]
     },
     "execution_count": 17,
     "metadata": {},
     "output_type": "execute_result"
    }
   ],
   "source": [
    "spad_single_relevant"
   ]
  },
  {
   "cell_type": "code",
   "execution_count": null,
   "metadata": {},
   "outputs": [],
   "source": []
  }
 ],
 "metadata": {
  "kernelspec": {
   "display_name": "Python 3",
   "language": "python",
   "name": "python3"
  },
  "language_info": {
   "codemirror_mode": {
    "name": "ipython",
    "version": 3
   },
   "file_extension": ".py",
   "mimetype": "text/x-python",
   "name": "python",
   "nbconvert_exporter": "python",
   "pygments_lexer": "ipython3",
   "version": "3.6.7"
  }
 },
 "nbformat": 4,
 "nbformat_minor": 2
}
