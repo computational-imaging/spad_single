{
 "cells": [
  {
   "cell_type": "code",
   "execution_count": 38,
   "metadata": {
    "ExecuteTime": {
     "end_time": "2019-09-03T22:30:08.382179Z",
     "start_time": "2019-09-03T22:30:08.061255Z"
    }
   },
   "outputs": [],
   "source": [
    "%matplotlib inline\n",
    "import cv2\n",
    "import numpy as np\n",
    "import matplotlib.pyplot as plt\n",
    "\n",
    "# From:\n",
    "# https://answers.opencv.org/question/82453/calculate-surface-normals-from-depth-image-using-neighboring-pixels-cross-product/\n",
    "\n",
    "# Mat normals(depth.size(), CV_32FC3);\n",
    "# for(int x = 0; x < depth.rows; ++x)\n",
    "# {\n",
    "#     for(int y = 0; y < depth.cols; ++y)\n",
    "#     {\n",
    "#         // use float instead of double otherwise you will not get the correct result\n",
    "#         // check my updates in the original post. I have not figure out yet why this\n",
    "#         // is happening.\n",
    "#         float dzdx = (depth.at<float>(x+1, y) - depth.at<float>(x-1, y)) / 2.0;\n",
    "#         float dzdy = (depth.at<float>(x, y+1) - depth.at<float>(x, y-1)) / 2.0;\n",
    "\n",
    "#         Vec3f d(-dzdx, -dzdy, 1.0f);\n",
    "\n",
    "#         Vec3f n = normalize(d);\n",
    "#         normals.at<Vec3f>(x, y) = n;\n",
    "#     }\n",
    "# }\n",
    "\n",
    "# imshow(\"normals\", normals);\n",
    "\n",
    "# Parameters for SPAD Galvo \"Camera\"\n",
    "focal_length = [758.2466 791.2153]  # (X, Y)\n",
    "principal_point = [311.7251 235.8589] # (X, Y), from bottom left corner\n"
   ]
  },
  {
   "cell_type": "code",
   "execution_count": 41,
   "metadata": {
    "ExecuteTime": {
     "end_time": "2019-09-03T22:31:00.776620Z",
     "start_time": "2019-09-03T22:31:00.766884Z"
    }
   },
   "outputs": [],
   "source": [
    "def normals_from_depth(depth):\n",
    "    \"\"\"\n",
    "    Compute surface normals of a depth map.\n",
    "    \"\"\"\n",
    "    dzdx = (depth[:, 2:] - depth[:, :-2])/2.\n",
    "    dzdy = (depth[:-2, :] - depth[2:, :])/2.\n",
    "    n = np.array((-dzdx[1:-1, :], -dzdy[:, 1:-1], np.ones_like(dzdx[1:-1,:])))\n",
    "    n /= np.sqrt(np.sum(n**2, axis=0)) # Normalize each vector\n",
    "    return n\n",
    "    \n",
    "    "
   ]
  },
  {
   "cell_type": "code",
   "execution_count": 49,
   "metadata": {
    "ExecuteTime": {
     "end_time": "2019-09-03T22:37:53.508492Z",
     "start_time": "2019-09-03T22:37:53.495890Z"
    }
   },
   "outputs": [
    {
     "name": "stdout",
     "output_type": "stream",
     "text": [
      "[[[-0.70710678 -0.70710678 -0.70710678 -0.70710678 -0.70710678\n",
      "   -0.70710678]\n",
      "  [-0.70710678 -0.70710678 -0.70710678 -0.70710678 -0.70710678\n",
      "   -0.70710678]\n",
      "  [-0.70710678 -0.70710678 -0.70710678 -0.70710678 -0.70710678\n",
      "   -0.70710678]\n",
      "  [-0.70710678 -0.70710678 -0.70710678 -0.70710678 -0.70710678\n",
      "   -0.70710678]\n",
      "  [-0.70710678 -0.70710678 -0.70710678 -0.70710678 -0.70710678\n",
      "   -0.70710678]\n",
      "  [-0.70710678 -0.70710678 -0.70710678 -0.70710678 -0.70710678\n",
      "   -0.70710678]]\n",
      "\n",
      " [[-0.         -0.         -0.         -0.         -0.\n",
      "   -0.        ]\n",
      "  [-0.         -0.         -0.         -0.         -0.\n",
      "   -0.        ]\n",
      "  [-0.         -0.         -0.         -0.         -0.\n",
      "   -0.        ]\n",
      "  [-0.         -0.         -0.         -0.         -0.\n",
      "   -0.        ]\n",
      "  [-0.         -0.         -0.         -0.         -0.\n",
      "   -0.        ]\n",
      "  [-0.         -0.         -0.         -0.         -0.\n",
      "   -0.        ]]\n",
      "\n",
      " [[ 0.70710678  0.70710678  0.70710678  0.70710678  0.70710678\n",
      "    0.70710678]\n",
      "  [ 0.70710678  0.70710678  0.70710678  0.70710678  0.70710678\n",
      "    0.70710678]\n",
      "  [ 0.70710678  0.70710678  0.70710678  0.70710678  0.70710678\n",
      "    0.70710678]\n",
      "  [ 0.70710678  0.70710678  0.70710678  0.70710678  0.70710678\n",
      "    0.70710678]\n",
      "  [ 0.70710678  0.70710678  0.70710678  0.70710678  0.70710678\n",
      "    0.70710678]\n",
      "  [ 0.70710678  0.70710678  0.70710678  0.70710678  0.70710678\n",
      "    0.70710678]]]\n",
      "[[[-0.         -0.         -0.         -0.         -0.\n",
      "   -0.        ]\n",
      "  [-0.         -0.         -0.         -0.         -0.\n",
      "   -0.        ]\n",
      "  [-0.         -0.         -0.         -0.         -0.\n",
      "   -0.        ]\n",
      "  [-0.         -0.         -0.         -0.         -0.\n",
      "   -0.        ]\n",
      "  [-0.         -0.         -0.         -0.         -0.\n",
      "   -0.        ]\n",
      "  [-0.         -0.         -0.         -0.         -0.\n",
      "   -0.        ]]\n",
      "\n",
      " [[ 0.14142136  0.14142136  0.14142136  0.14142136  0.14142136\n",
      "    0.14142136]\n",
      "  [ 0.14142136  0.14142136  0.14142136  0.14142136  0.14142136\n",
      "    0.14142136]\n",
      "  [ 0.14142136  0.14142136  0.14142136  0.14142136  0.14142136\n",
      "    0.14142136]\n",
      "  [ 0.14142136  0.14142136  0.14142136  0.14142136  0.14142136\n",
      "    0.14142136]\n",
      "  [ 0.14142136  0.14142136  0.14142136  0.14142136  0.14142136\n",
      "    0.14142136]\n",
      "  [ 0.14142136  0.14142136  0.14142136  0.14142136  0.14142136\n",
      "    0.14142136]]\n",
      "\n",
      " [[ 0.98994949  0.98994949  0.98994949  0.98994949  0.98994949\n",
      "    0.98994949]\n",
      "  [ 0.98994949  0.98994949  0.98994949  0.98994949  0.98994949\n",
      "    0.98994949]\n",
      "  [ 0.98994949  0.98994949  0.98994949  0.98994949  0.98994949\n",
      "    0.98994949]\n",
      "  [ 0.98994949  0.98994949  0.98994949  0.98994949  0.98994949\n",
      "    0.98994949]\n",
      "  [ 0.98994949  0.98994949  0.98994949  0.98994949  0.98994949\n",
      "    0.98994949]\n",
      "  [ 0.98994949  0.98994949  0.98994949  0.98994949  0.98994949\n",
      "    0.98994949]]]\n"
     ]
    }
   ],
   "source": [
    "depthx, depthy = np.meshgrid(np.linspace(0,7, 8), np.linspace(0, 1, 8))\n",
    "xn = normals_from_depth(depthx)\n",
    "yn = normals_from_depth(depthy)\n",
    "print(normals_from_depth(depthx))\n",
    "print(normals_from_depth(depthy))\n"
   ]
  },
  {
   "cell_type": "code",
   "execution_count": 55,
   "metadata": {
    "ExecuteTime": {
     "end_time": "2019-09-03T22:41:05.058045Z",
     "start_time": "2019-09-03T22:41:04.566399Z"
    }
   },
   "outputs": [
    {
     "data": {
      "text/plain": [
       "<matplotlib.image.AxesImage at 0x7f9014307550>"
      ]
     },
     "execution_count": 55,
     "metadata": {},
     "output_type": "execute_result"
    },
    {
     "data": {
      "image/png": "[encoded data removed]",
      "text/plain": [
       "<Figure size 432x288 with 1 Axes>"
      ]
     },
     "metadata": {
      "needs_background": "light"
     },
     "output_type": "display_data"
    }
   ],
   "source": [
    "# print(xn.shape)\n",
    "plt.imshow(np.abs(xn).transpose(1, 2, 0))"
   ]
  },
  {
   "cell_type": "code",
   "execution_count": 47,
   "metadata": {
    "ExecuteTime": {
     "end_time": "2019-09-03T22:32:01.090426Z",
     "start_time": "2019-09-03T22:32:01.083681Z"
    }
   },
   "outputs": [
    {
     "data": {
      "text/plain": [
       "0.7071067811865476"
      ]
     },
     "execution_count": 47,
     "metadata": {},
     "output_type": "execute_result"
    }
   ],
   "source": []
  },
  {
   "cell_type": "code",
   "execution_count": null,
   "metadata": {},
   "outputs": [],
   "source": []
  }
 ],
 "metadata": {
  "kernelspec": {
   "display_name": "Python 3",
   "language": "python",
   "name": "python3"
  },
  "language_info": {
   "codemirror_mode": {
    "name": "ipython",
    "version": 3
   },
   "file_extension": ".py",
   "mimetype": "text/x-python",
   "name": "python",
   "nbconvert_exporter": "python",
   "pygments_lexer": "ipython3",
   "version": "3.6.7"
  }
 },
 "nbformat": 4,
 "nbformat_minor": 2
}
