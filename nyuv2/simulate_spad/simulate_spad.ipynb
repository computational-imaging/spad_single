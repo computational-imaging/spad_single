{
 "cells": [
  {
   "cell_type": "markdown",
   "metadata": {},
   "source": [
    "### Load Stuff"
   ]
  },
  {
   "cell_type": "code",
   "execution_count": 1,
   "metadata": {
    "ExecuteTime": {
     "end_time": "2019-07-19T22:35:58.981607Z",
     "start_time": "2019-07-19T22:35:56.728669Z"
    }
   },
   "outputs": [],
   "source": [
    "%matplotlib inline\n",
    "import numpy as np\n",
    "import cvxpy as cp\n",
    "import matplotlib.pyplot as plt"
   ]
  },
  {
   "cell_type": "code",
   "execution_count": 2,
   "metadata": {
    "ExecuteTime": {
     "end_time": "2019-07-19T22:35:59.001425Z",
     "start_time": "2019-07-19T22:35:58.984234Z"
    }
   },
   "outputs": [],
   "source": [
    "from time import perf_counter\n",
    "\n",
    "class SID:\n",
    "    \"\"\"\n",
    "    Implements Spacing-Increasing Discretization as described in the DORN paper.\n",
    "\n",
    "    Discretizes the region [alpha, beta]\n",
    "    Offset controls spacing even further by discretizing [alpha + offset, beta + offset] and then\n",
    "    subtracting offset from all bin edges.\n",
    "\n",
    "    Bonus: Includes support for when the index is -1 (in which case the value should be alpha)\n",
    "    and when it is sid_bins (in which case the value should be beta).\n",
    "\n",
    "    Works in numpy.\n",
    "    \"\"\"\n",
    "    def __init__(self, sid_bins, alpha, beta, offset):\n",
    "        self.sid_bins = sid_bins\n",
    "        self.alpha = alpha\n",
    "        self.beta = beta\n",
    "        self.offset = offset\n",
    "\n",
    "        # Derived quantities\n",
    "        self.alpha_star = self.alpha + offset\n",
    "        self.beta_star = self.beta + offset\n",
    "        bin_edges = np.array(range(sid_bins + 1)).astype(np.float32)\n",
    "        self.sid_bin_edges = np.array(np.exp(np.log(self.alpha_star) +\n",
    "                                             bin_edges / self.sid_bins * np.log(self.beta_star / self.alpha_star)))\n",
    "        self.sid_bin_values = (self.sid_bin_edges[:-1] + self.sid_bin_edges[1:]) / 2 - self.offset\n",
    "        self.sid_bin_values = np.append(self.sid_bin_values, [self.alpha, self.beta])\n",
    "        # Do the above so that:\n",
    "        # self.sid_bin_values[-1] = self.alpha < self.sid_bin_values[0]\n",
    "        # and\n",
    "        # self.sid_bin_values[sid_bins] = self.beta > self.sid_bin_values[sid_bins-1]\n",
    "\n",
    "    def get_sid_index_from_value(self, arr):\n",
    "        \"\"\"\n",
    "        Given an array of values in the range [alpha, beta], return the\n",
    "        indices of the bins they correspond to\n",
    "        :param arr: The array to turn into indices.\n",
    "        :return: The array of indices.\n",
    "        \"\"\"\n",
    "        sid_index = np.floor(self.sid_bins * (np.log(arr + self.offset) - np.log(self.alpha_star)) /\n",
    "                                             (np.log(self.beta_star) - np.log(self.alpha_star))).astype(np.int32)\n",
    "        sid_index = np.clip(sid_index, a_min=-1, a_max=self.sid_bins)\n",
    "        # An index of -1 indicates alpha, while self.sid_bins indicates beta\n",
    "        return sid_index\n",
    "\n",
    "    def get_value_from_sid_index(self, sid_index):\n",
    "        \"\"\"\n",
    "        Given an array of indices in the range {-1, 0,...,sid_bins},\n",
    "        return the representative value of the selected bin.\n",
    "        :param sid_index: The array of indices.\n",
    "        :return: The array of values correspondding to those indices\n",
    "        \"\"\"\n",
    "        return np.take(self.sid_bin_values, sid_index)\n",
    "\n",
    "    def __repr__(self):\n",
    "        return repr((self.sid_bins, self.alpha, self.beta, self.offset))\n",
    "\n"
   ]
  },
  {
   "cell_type": "code",
   "execution_count": 5,
   "metadata": {
    "ExecuteTime": {
     "end_time": "2019-07-19T22:36:08.202468Z",
     "start_time": "2019-07-19T22:36:07.726696Z"
    }
   },
   "outputs": [],
   "source": [
    "# %%writefile spad_utils.py\n",
    "import numpy as np\n",
    "from scipy.signal import fftconvolve\n",
    "import cvxpy as cp\n",
    "\n",
    "def simulate_spad(depth_truth, intensity, mask, min_depth, max_depth,\n",
    "                  spad_bins, photon_count, dc_count, fwhm_ps,\n",
    "                  use_poisson, use_intensity, use_squared_falloff,\n",
    "                  use_jitter):\n",
    "    \"\"\"\n",
    "    Works in numpy.\n",
    "    :param depth_truth: The ground truth depth map (z, not distance...)\n",
    "    :param albedo: The albedo map, aligned with the ground truth depth map.\n",
    "    :param mask: The mask of valid pixels\n",
    "    :param min_depth: The minimum depth value (used for the discretization).\n",
    "    :param max_depth: The maximum depth value (used for the discretization).\n",
    "    :param spad_bins: The number of spad bins to simulate\n",
    "    :param photon_count: The number of photons to collect\n",
    "    :param dc_count: The additional fraction of photons to add to account for dark count + ambient light\n",
    "    :param fwhm_ps: The full-width-at-half-maximum of the laser pulse jitter\n",
    "    :param use_poisson: Whether or not to apply poisson noise at the end.\n",
    "    :param use_intensity: Whether or not to take an intensity image into account when simulating.\n",
    "    :param use_squared_falloff: Whether or not to take the squared depth into account when simulating\n",
    "    :return: A simulated spad.\n",
    "    \"\"\"\n",
    "    weights = mask\n",
    "    if use_intensity:\n",
    "        weights = weights * intensity\n",
    "    if use_squared_falloff:\n",
    "        weights = weights / (depth_truth ** 2 + 1e-6)\n",
    "    depth_hist, _ = np.histogram(depth_truth, bins=spad_bins, range=(min_depth, max_depth), weights=weights)\n",
    "\n",
    "    # Scale by number of photons\n",
    "    spad_counts = depth_hist * (photon_count / np.sum(depth_hist))\n",
    "\n",
    "    # Add ambient/dark counts (dc_count) w/ Gaussian noise\n",
    "    spad_counts += np.ones(len(spad_counts)) * (dc_count / spad_bins) #+ 0.01*np.random.randn(len(spad_counts))\n",
    "\n",
    "    # Convolve with PSF\n",
    "    if use_jitter:\n",
    "        bin_width_m = float(max_depth - min_depth) / spad_bins  # meters/bin\n",
    "        bin_width_ps = 2 * bin_width_m * 1e12 / (3e8)   # ps/bin, speed of light = 3e8, x2 because light needs to travel there and back.\n",
    "        fwhm_bin = fwhm_ps / bin_width_ps\n",
    "        psf = makeGaussianPSF(len(spad_counts), fwhm=fwhm_bin)\n",
    "        spad_counts = fftconvolve(psf, spad_counts)[:int(spad_bins)]\n",
    "        spad_counts = np.clip(spad_counts, a_min=0., a_max=None)\n",
    "\n",
    "    if use_poisson:\n",
    "        spad_counts = np.random.poisson(spad_counts)\n",
    "    return spad_counts\n",
    "\n",
    "def makeGaussianPSF(size, fwhm=3):\n",
    "    \"\"\" Make a gaussian kernel.\n",
    "    size is the length of the array\n",
    "    fwhm is full-width-half-maximum, which\n",
    "    can be thought of as an effective radius.\n",
    "    \"\"\"\n",
    "\n",
    "    x = np.arange(0, size, 1, float)\n",
    "    x0 = size // 2\n",
    "    return np.roll(np.exp(-4 * np.log(2) * ((x - x0) ** 2) / fwhm ** 2), len(x) - x0)\n",
    "\n",
    "\n",
    "def rescale_bins(spad_counts, min_depth, max_depth, sid_obj):\n",
    "    \"\"\"\n",
    "    Works in Numpy\n",
    "    :param spad_counts: The histogram of spad counts to rescale.\n",
    "    :param min_depth: The minimum depth of the histogram.\n",
    "    :param max_depth: The maximum depth of the histogram.\n",
    "    :param sid_obj: An object representing a SID.\n",
    "    :return: A rescaled histogram in time to be according to the SID\n",
    "\n",
    "    Assign photons to sid bins proportionally according to the amount of overlap between\n",
    "    the sid bin range and the spad_count bin.\n",
    "    \"\"\"\n",
    "\n",
    "    sid_bin_edges_m = sid_obj.sid_bin_edges\n",
    "\n",
    "    # Convert sid_bin_edges_m into units of spad bins\n",
    "    sid_bin_edges_bin = sid_bin_edges_m * len(spad_counts) / (max_depth - min_depth)\n",
    "\n",
    "    # Map spad_counts onto sid_bin indices\n",
    "    sid_counts = np.zeros(sid_obj.sid_bins)\n",
    "    for i in range(sid_obj.sid_bins):\n",
    "        left = sid_bin_edges_bin[i]\n",
    "        right = sid_bin_edges_bin[i + 1]\n",
    "        curr = left\n",
    "        while curr != right:\n",
    "            curr = np.min([right, np.floor(left + 1.)])  # Don't go across spad bins - stop at integers\n",
    "            sid_counts[i] += (curr - left) * spad_counts[int(np.floor(left))]\n",
    "            # Update window\n",
    "            left = curr\n",
    "    return sid_counts\n",
    "\n",
    "def remove_dc_from_spad(noisy_spad, bin_edges, lam=1e-2, eps_rel=1e-5):\n",
    "    \"\"\"\n",
    "    Works in numpy.\n",
    "    :param noisy_spad: Length C array with the raw spad histogram to denoise.\n",
    "    :param bin_edges: Length C+1 array with the bin widths in meters of the original bins.\n",
    "    :param lam: float value controlling strength of L1 regularization on the signal\n",
    "    :param eps: float value controlling precision of solver\n",
    "    \"\"\"\n",
    "    assert len(noisy_spad.shape) == 1\n",
    "    C = noisy_spad.shape[0]\n",
    "    assert bin_edges.shape == (C+1,)\n",
    "    bin_widths = bin_edges[1:] - bin_edges[:-1]\n",
    "    spad_equalized = noisy_spad / bin_widths\n",
    "    x = cp.Variable((C,), \"signal\")\n",
    "    z = cp.Variable((1,), \"noise\")\n",
    "    obj = cp.Minimize(cp.sum_squares(spad_equalized - (x + z)) + lam * cp.norm(x, 1))\n",
    "    constr = [\n",
    "        x >= 0,\n",
    "#         z >= 0\n",
    "    ]\n",
    "    prob = cp.Problem(obj, constr)\n",
    "    prob.solve(solver=cp.OSQP, eps_rel=eps_rel)\n",
    "    denoised_spad = np.clip(x.value * bin_widths, a_min=0., a_max=None)\n",
    "    return denoised_spad\n",
    "\n",
    "\n",
    "\n",
    "def preprocess_spad(spad_sid, sid_obj, correct_falloff, remove_dc, **dc_kwargs):\n",
    "    if remove_dc:\n",
    "        spad_sid = remove_dc_from_spad(spad_sid, sid_obj.sid_bin_edges, **dc_kwargs)\n",
    "    if correct_falloff:\n",
    "        spad_sid = spad_sid * sid_obj.sid_bin_values[:-2]**2\n",
    "    return spad_sid\n",
    "\n",
    "def simulate_spad_sid(depth, intensity, mask, min_depth, max_depth,\n",
    "                      sid_obj, spad_bins, photon_count, dc_count, fwhm_ps,\n",
    "                      use_poisson, use_intensity, use_squared_falloff,\n",
    "                      use_jitter):\n",
    "    spad_counts = simulate_spad(depth, intensity, mask, min_depth, max_depth,\n",
    "                                spad_bins, photon_count, dc_count, fwhm_ps,\n",
    "                                use_poisson, use_intensity, use_squared_falloff,\n",
    "                                use_jitter)\n",
    "    spad_sid = rescale_bins(spad_counts, min_depth, max_depth, sid_obj)\n",
    "    return spad_sid\n",
    "\n",
    "from collections import OrderedDict\n",
    "spad_types = OrderedDict([\n",
    "    (\"rawhist\", {#Rawhist\n",
    "        \"spad_bins\": 1024,\n",
    "        \"photon_count\": 1e6,\n",
    "        \"dc_count\": 0.,\n",
    "        \"fwhm_ps\": 70.,\n",
    "        \"use_poisson\": False,\n",
    "        \"use_intensity\": False,\n",
    "        \"use_squared_falloff\": False,\n",
    "        \"use_jitter\": False\n",
    "    }),\n",
    "    (\"intensity\", {#Intensity\n",
    "        \"spad_bins\": 1024,\n",
    "        \"photon_count\": 1e6,\n",
    "        \"dc_count\": 0.,\n",
    "        \"fwhm_ps\": 70.,\n",
    "        \"use_poisson\": False,\n",
    "        \"use_intensity\": True,\n",
    "        \"use_squared_falloff\": False,\n",
    "        \"use_jitter\": False\n",
    "    }),\n",
    "    (\"intensity + falloff\", {#Intensity + falloff\n",
    "        \"spad_bins\": 1024,\n",
    "        \"photon_count\": 1e6,\n",
    "        \"dc_count\": 0.,\n",
    "        \"fwhm_ps\": 70.,\n",
    "        \"use_poisson\": False,\n",
    "        \"use_intensity\": True,\n",
    "        \"use_squared_falloff\": True,\n",
    "        \"use_jitter\": False\n",
    "    }),\n",
    "    (\"intensity + falloff + dc\", {#Intensity+falloff+dc\n",
    "        \"spad_bins\": 1024,\n",
    "        \"photon_count\": 1e6,\n",
    "        \"dc_count\": 1e5,\n",
    "        \"fwhm_ps\": 70.,\n",
    "        \"use_poisson\": False,\n",
    "        \"use_intensity\": True,\n",
    "        \"use_squared_falloff\": True,\n",
    "        \"use_jitter\": False\n",
    "    }),\n",
    "    (\"intensity + falloff + dc + jitter\", {#Intensity+falloff+dc+jitter\n",
    "        \"spad_bins\": 1024,\n",
    "        \"photon_count\": 1e6,\n",
    "        \"dc_count\": 1e5,\n",
    "        \"fwhm_ps\": 70.,\n",
    "        \"use_poisson\": False,\n",
    "        \"use_intensity\": True,\n",
    "        \"use_squared_falloff\": True,\n",
    "        \"use_jitter\": True\n",
    "    }),\n",
    "    (\"intensity + falloff + dc + jitter + poisson\", {#Intensity+falloff+dc+jitter+poisson\n",
    "        \"spad_bins\": 1024,\n",
    "        \"photon_count\": 1e6,\n",
    "        \"dc_count\": 1e5,\n",
    "        \"fwhm_ps\": 70.,\n",
    "        \"use_poisson\": True,\n",
    "        \"use_intensity\": True,\n",
    "        \"use_squared_falloff\": True,\n",
    "        \"use_jitter\": True\n",
    "    })\n",
    "])\n"
   ]
  },
  {
   "cell_type": "code",
   "execution_count": 6,
   "metadata": {
    "ExecuteTime": {
     "end_time": "2019-07-19T22:36:08.940871Z",
     "start_time": "2019-07-19T22:36:08.868653Z"
    }
   },
   "outputs": [],
   "source": [
    "# Load actual depth image\n",
    "from matplotlib._png import read_png\n",
    "orig = read_png(\"data/4597_depth.png\")\n",
    "orig = (orig - np.min(orig))/(np.max(orig) - np.min(orig))\n",
    "new_max = 2\n",
    "new_min = 0.8\n",
    "sid_obj = SID(sid_bins=68, alpha=0.6569154266167957, beta=9.972175646365525, offset=0)\n",
    "\n",
    "# Make ground truth\n",
    "gt = orig * new_max + new_min\n",
    "\n",
    "# Load RGB image\n",
    "albedo = read_png(\"data/4597_albedo.png\")\n",
    "intensity = 0.2989 * albedo[..., 0] + 0.5870 * albedo[..., 1] + 0.1140 * albedo[..., 2]"
   ]
  },
  {
   "cell_type": "markdown",
   "metadata": {},
   "source": [
    "### Compare SPADs"
   ]
  },
  {
   "cell_type": "code",
   "execution_count": 7,
   "metadata": {
    "ExecuteTime": {
     "end_time": "2019-07-19T22:36:13.591879Z",
     "start_time": "2019-07-19T22:36:09.611742Z"
    }
   },
   "outputs": [
    {
     "data": {
      "image/png": "[encoded data removed]",
      "text/plain": [
       "<Figure size 2592x576 with 12 Axes>"
      ]
     },
     "metadata": {
      "needs_background": "light"
     },
     "output_type": "display_data"
    }
   ],
   "source": [
    "depth = gt\n",
    "fig, axs = plt.subplots(2, len(spad_types), figsize=(6*len(spad_types), 8))\n",
    "for i, title in enumerate(spad_types):\n",
    "    kwargs = spad_types[title]\n",
    "    spad_sid = simulate_spad_sid(depth, intensity, np.ones_like(depth), min_depth=0., max_depth=10., sid_obj=sid_obj,\n",
    "                                **kwargs)\n",
    "    axs[0,i].set_title(title)\n",
    "    axs[0,i].bar(range(len(spad_sid)), spad_sid)\n",
    "    denoised_spad_sid = preprocess_spad(spad_sid, sid_obj, kwargs[\"use_squared_falloff\"], kwargs[\"dc_count\"]>0.,\n",
    "                                        )\n",
    "    axs[1,i].bar(range(len(denoised_spad_sid)), denoised_spad_sid)\n",
    "axs[0,0].set_ylabel(\"Simulated\")\n",
    "axs[1,0].set_ylabel(\"Denoised\");"
   ]
  },
  {
   "cell_type": "code",
   "execution_count": 40,
   "metadata": {
    "ExecuteTime": {
     "end_time": "2019-07-19T00:25:59.327860Z",
     "start_time": "2019-07-19T00:25:58.978494Z"
    }
   },
   "outputs": [
    {
     "data": {
      "text/plain": [
       "<BarContainer object of 68 artists>"
      ]
     },
     "execution_count": 40,
     "metadata": {},
     "output_type": "execute_result"
    },
    {
     "data": {
      "image/png": "[encoded data removed]",
      "text/plain": [
       "<Figure size 432x288 with 1 Axes>"
      ]
     },
     "metadata": {
      "needs_background": "light"
     },
     "output_type": "display_data"
    }
   ],
   "source": [
    "a = np.tile(sid_obj.sid_bin_values[:-2], (100, 10))\n",
    "a_index = sid_obj.get_sid_index_from_value(a)\n",
    "a_hist, _ = np.histogram(a_index, bins=range(sid_obj.sid_bins+1))\n",
    "plt.bar(range(len(a_hist)), a_hist)"
   ]
  },
  {
   "cell_type": "code",
   "execution_count": 41,
   "metadata": {
    "ExecuteTime": {
     "end_time": "2019-07-19T00:26:00.996426Z",
     "start_time": "2019-07-19T00:26:00.573922Z"
    }
   },
   "outputs": [
    {
     "data": {
      "text/plain": [
       "<BarContainer object of 68 artists>"
      ]
     },
     "execution_count": 41,
     "metadata": {},
     "output_type": "execute_result"
    },
    {
     "data": {
      "image/png": "[encoded data removed]",
      "text/plain": [
       "<Figure size 432x288 with 1 Axes>"
      ]
     },
     "metadata": {
      "needs_background": "light"
     },
     "output_type": "display_data"
    }
   ],
   "source": [
    "a_spad = simulate_sid_bin_spad(a, np.ones_like(a), np.ones_like(a), 0., 10., sid_obj, 1e6, 0., 70.,\n",
    "                              False, False, False, False)\n",
    "plt.bar(range(len(a_spad)), a_spad)"
   ]
  },
  {
   "cell_type": "code",
   "execution_count": 42,
   "metadata": {
    "ExecuteTime": {
     "end_time": "2019-07-19T10:57:52.408376Z",
     "start_time": "2019-07-19T10:57:52.392025Z"
    }
   },
   "outputs": [],
   "source": [
    "def simulate_sid_bin_spad(depth, intensity, mask, min_depth, max_depth,\n",
    "                          sid_obj, photon_count, dc_count, fwhm_ps,\n",
    "                          use_poisson, use_intensity, use_squared_falloff,\n",
    "                          use_jitter):\n",
    "    spad_counts = simulate_spad(depth, intensity, mask, min_depth, max_depth,\n",
    "                                sid_obj.sid_bins, photon_count, dc_count, fwhm_ps,\n",
    "                                use_poisson, use_intensity, use_squared_falloff,\n",
    "                                use_jitter)\n",
    "    spad_sid = rescale_bins(spad_counts, min_depth, max_depth, sid_obj)\n",
    "    return spad_sid"
   ]
  },
  {
   "cell_type": "code",
   "execution_count": 19,
   "metadata": {
    "ExecuteTime": {
     "end_time": "2019-07-19T00:14:40.023089Z",
     "start_time": "2019-07-19T00:14:39.647433Z"
    }
   },
   "outputs": [
    {
     "data": {
      "text/plain": [
       "[<matplotlib.lines.Line2D at 0x11d6ca438>]"
      ]
     },
     "execution_count": 19,
     "metadata": {},
     "output_type": "execute_result"
    },
    {
     "data": {
      "image/png": "[encoded data removed]",
      "text/plain": [
       "<Figure size 432x288 with 1 Axes>"
      ]
     },
     "metadata": {
      "needs_background": "light"
     },
     "output_type": "display_data"
    }
   ],
   "source": [
    "plt.plot(b)"
   ]
  },
  {
   "cell_type": "code",
   "execution_count": null,
   "metadata": {},
   "outputs": [],
   "source": []
  }
 ],
 "metadata": {
  "kernelspec": {
   "display_name": "Python 3",
   "language": "python",
   "name": "python3"
  },
  "language_info": {
   "codemirror_mode": {
    "name": "ipython",
    "version": 3
   },
   "file_extension": ".py",
   "mimetype": "text/x-python",
   "name": "python",
   "nbconvert_exporter": "python",
   "pygments_lexer": "ipython3",
   "version": "3.6.5"
  }
 },
 "nbformat": 4,
 "nbformat_minor": 2
}
