{
 "cells": [
  {
   "cell_type": "code",
   "execution_count": 1,
   "metadata": {
    "ExecuteTime": {
     "end_time": "2019-07-29T22:21:02.068146Z",
     "start_time": "2019-07-29T22:20:56.547151Z"
    }
   },
   "outputs": [],
   "source": [
    "%matplotlib inline\n",
    "import numpy as np\n",
    "import scipy.signal\n",
    "import cvxpy as cp\n",
    "import matplotlib.pyplot as plt\n",
    "import sklearn.mixture as mix"
   ]
  },
  {
   "cell_type": "code",
   "execution_count": 124,
   "metadata": {
    "ExecuteTime": {
     "end_time": "2019-07-31T18:23:54.483732Z",
     "start_time": "2019-07-31T18:23:45.148082Z"
    }
   },
   "outputs": [
    {
     "name": "stdout",
     "output_type": "stream",
     "text": [
      "noise std: 17.293730549031064\n",
      "sqrt(dc) 17.320508075688775\n"
     ]
    },
    {
     "data": {
      "text/plain": [
       "<BarContainer object of 1024 artists>"
      ]
     },
     "execution_count": 124,
     "metadata": {},
     "output_type": "execute_result"
    },
    {
     "data": {
      "image/png": "[encoded data removed]",
      "text/plain": [
       "<Figure size 432x288 with 1 Axes>"
      ]
     },
     "metadata": {
      "needs_background": "light"
     },
     "output_type": "display_data"
    },
    {
     "data": {
      "image/png": "[encoded data removed]",
      "text/plain": [
       "<Figure size 432x288 with 1 Axes>"
      ]
     },
     "metadata": {
      "needs_background": "light"
     },
     "output_type": "display_data"
    }
   ],
   "source": [
    "N = 1024\n",
    "resolution = 640*480\n",
    "sig_per_pixel = 5\n",
    "SBR = 5.\n",
    "noise_per_pixel = sig_per_pixel/SBR\n",
    "signal_photons = sig_per_pixel*resolution\n",
    "noise_photons = noise_per_pixel*resolution\n",
    "def gaussian(mu, sigma):\n",
    "    return np.exp([-(i - mu)**2/(2*sigma**2) for i in range(N)])\n",
    "signal = gaussian(250, 60) + 2*gaussian(400, 30) + 0.01*gaussian(550, 120) + 0.02*gaussian(750, 90)\n",
    "window = [180, 850]\n",
    "signal[:window[0]] = 0\n",
    "signal[window[1]:] = 0\n",
    "signal *= signal_photons/np.sum(signal)\n",
    "plt.figure()\n",
    "plt.bar(range(N), signal, log=True)\n",
    "noisy_signal = signal + noise_photons/N * np.ones(N)\n",
    "h = np.random.poisson(noisy_signal)\n",
    "h_dc = np.random.poisson(noise_photons/N*np.ones(N))\n",
    "print(\"noise std:\", np.std(h_dc))\n",
    "print(\"sqrt(dc)\", np.sqrt(noise_photons/N))\n",
    "plt.figure()\n",
    "plt.bar(range(N), h, log=True)"
   ]
  },
  {
   "cell_type": "code",
   "execution_count": 125,
   "metadata": {
    "ExecuteTime": {
     "end_time": "2019-07-31T18:24:06.207990Z",
     "start_time": "2019-07-31T18:23:59.280505Z"
    }
   },
   "outputs": [
    {
     "name": "stdout",
     "output_type": "stream",
     "text": [
      "1799.44921875\n",
      "299.3\n",
      "true dc: 300.0\n"
     ]
    },
    {
     "data": {
      "text/plain": [
       "<BarContainer object of 1023 artists>"
      ]
     },
     "execution_count": 125,
     "metadata": {},
     "output_type": "execute_result"
    },
    {
     "data": {
      "image/png": "[encoded data removed]",
      "text/plain": [
       "<Figure size 432x288 with 1 Axes>"
      ]
     },
     "metadata": {
      "needs_background": "light"
     },
     "output_type": "display_data"
    },
    {
     "data": {
      "image/png": "[encoded data removed]",
      "text/plain": [
       "<Figure size 432x288 with 1 Axes>"
      ]
     },
     "metadata": {
      "needs_background": "light"
     },
     "output_type": "display_data"
    },
    {
     "data": {
      "image/png": "[encoded data removed]",
      "text/plain": [
       "<Figure size 432x288 with 1 Axes>"
      ]
     },
     "metadata": {
      "needs_background": "light"
     },
     "output_type": "display_data"
    }
   ],
   "source": [
    "# Use first 100 measurements to estimate ambient level\n",
    "def anscombe(x):\n",
    "    return 2*np.sqrt(x + 3./8)\n",
    "def inv_anscombe(x):\n",
    "    return (x/2)**2 - 3./8\n",
    "h_ans = anscombe(h)\n",
    "# Apply median filter to remove Gaussian Noise\n",
    "h_ans_filt = scipy.signal.medfilt(h_ans, kernel_size=3)\n",
    "# Apply Inverse Anscombe Transform\n",
    "h_eq = inv_anscombe(h_ans_filt)\n",
    "dc_est_ans = np.mean(h_eq)\n",
    "print(dc_est_ans)\n",
    "dc_est = np.mean(h[:100])\n",
    "print(dc_est)\n",
    "print(\"true dc:\", noise_photons/N)\n",
    "threshold = 1.1*dc_est\n",
    "# plt.bar(range(len(h)), h, log=True)\n",
    "plt.bar(range(len(h_eq)), h_eq, log=True)\n",
    "# plt.axhline(y=dc_est, color='r', linewidth=0.5)\n",
    "# for c in np.linspace(1, 3, 10):\n",
    "#     plt.axhline(y=c*dc_est, color='g', linewidth=0.5)\n",
    "plt.axhline(y=dc_est, color='g', linewidth=0.5)\n",
    "threshold = dc_est + 2*np.sqrt(dc_est)\n",
    "plt.figure()\n",
    "plt.bar(range(len(h_eq)), np.clip(h_eq - threshold, a_min=0., a_max=None), log=True)\n",
    "plt.figure()\n",
    "plt.bar(range(len(h_eq)-1), np.diff(np.sort(np.log(h_eq) - np.log(dc_est))), log=True)"
   ]
  },
  {
   "cell_type": "code",
   "execution_count": 111,
   "metadata": {
    "ExecuteTime": {
     "end_time": "2019-07-31T07:52:25.712306Z",
     "start_time": "2019-07-31T07:52:20.065258Z"
    }
   },
   "outputs": [
    {
     "name": "stdout",
     "output_type": "stream",
     "text": [
      "61.21844660194175\n"
     ]
    },
    {
     "data": {
      "text/plain": [
       "<BarContainer object of 1024 artists>"
      ]
     },
     "execution_count": 111,
     "metadata": {},
     "output_type": "execute_result"
    },
    {
     "data": {
      "image/png": "[encoded data removed]",
      "text/plain": [
       "<Figure size 432x288 with 1 Axes>"
      ]
     },
     "metadata": {
      "needs_background": "light"
     },
     "output_type": "display_data"
    },
    {
     "data": {
      "image/png": "[encoded data removed]",
      "text/plain": [
       "<Figure size 432x288 with 1 Axes>"
      ]
     },
     "metadata": {
      "needs_background": "light"
     },
     "output_type": "display_data"
    }
   ],
   "source": [
    "import sklearn.cluster as skcl\n",
    "\n",
    "h_denoised = h.copy()\n",
    "model = skcl.DBSCAN(eps=140.)\n",
    "classes = model.fit_predict(h_nz.reshape(-1,1))\n",
    "noise_class = min((np.mean(h_nz[classes == i]), i) for i in np.unique(classes))[1]\n",
    "cutoff = (np.max(h_nz[classes == noise_class]) + np.min(h_nz[classes != noise_class]))/2\n",
    "plt.bar(range(len(h)), h, log=True)\n",
    "plt.axhline(y=cutoff, color='r', linewidth=0.5)\n",
    "h_denoised[h_denoised <= cutoff] = 0.\n",
    "print(np.mean(h_nz[classes == noise_class]))\n",
    "plt.figure()\n",
    "plt.bar(range(len(h_denoised)), h_denoised, log=True)"
   ]
  },
  {
   "cell_type": "code",
   "execution_count": 67,
   "metadata": {
    "ExecuteTime": {
     "end_time": "2019-07-30T22:40:37.820870Z",
     "start_time": "2019-07-30T22:40:35.248348Z"
    }
   },
   "outputs": [
    {
     "name": "stdout",
     "output_type": "stream",
     "text": [
      "2\n"
     ]
    },
    {
     "data": {
      "text/plain": [
       "<BarContainer object of 895 artists>"
      ]
     },
     "execution_count": 67,
     "metadata": {},
     "output_type": "execute_result"
    },
    {
     "data": {
      "image/png": "[encoded data removed]",
      "text/plain": [
       "<Figure size 432x288 with 1 Axes>"
      ]
     },
     "metadata": {
      "needs_background": "light"
     },
     "output_type": "display_data"
    }
   ],
   "source": [
    "import sklearn.mixture as skmix\n",
    "# model = skmix.GaussianMixture(n_components=2, means_init=np.array([[0.], [np.mean(h)]]))\n",
    "model = skmix.GaussianMixture(n_components=2)\n",
    "h_nz = h[h > 0]\n",
    "classes = model.fit_predict(np.log(h_nz).reshape(-1, 1))\n",
    "print(len(np.unique(classes)))\n",
    "noise_class = np.argmin([np.mean(h_nz[classes == i]) for i in range(2)])\n",
    "h_noise = h_nz.copy()\n",
    "h_noise[classes != noise_class] = 0.\n",
    "h_signal = h_nz.copy()\n",
    "h_signal[classes == noise_class] = 0.\n",
    "\n",
    "# plt.bar(range(len(h_nz)), h_noise, log=True)\n",
    "plt.bar(range(len(h_nz)), h_signal, log=True)\n"
   ]
  },
  {
   "cell_type": "code",
   "execution_count": 50,
   "metadata": {
    "ExecuteTime": {
     "end_time": "2019-07-30T22:06:29.905134Z",
     "start_time": "2019-07-30T22:06:25.887895Z"
    }
   },
   "outputs": [
    {
     "data": {
      "text/plain": [
       "<BarContainer object of 1024 artists>"
      ]
     },
     "execution_count": 50,
     "metadata": {},
     "output_type": "execute_result"
    },
    {
     "data": {
      "image/png": "[encoded data removed]",
      "text/plain": [
       "<Figure size 432x288 with 1 Axes>"
      ]
     },
     "metadata": {
      "needs_background": "light"
     },
     "output_type": "display_data"
    },
    {
     "data": {
      "image/png": "[encoded data removed]",
      "text/plain": [
       "<Figure size 432x288 with 1 Axes>"
      ]
     },
     "metadata": {
      "needs_background": "light"
     },
     "output_type": "display_data"
    }
   ],
   "source": [
    "# Given ambient level, find all measurements within range:\n",
    "h_find_dc, bins = np.histogram(h, bins=1000)\n",
    "# print(bins)\n",
    "# for i, val in enumerate(bins[1:]):\n",
    "#     if val >= dc_est/3:\n",
    "#         cutoff = bins[i-1]\n",
    "#         break\n",
    "plt.bar(range(len(h_find_dc)), h_find_dc, log=True)\n",
    "plt.axvline(x=cutoff, color='r', linewidth=0.5)\n",
    "h_denoised = h.copy()\n",
    "h_denoised[h_denoised - dc_est <= cutoff] = 0\n",
    "plt.figure()\n",
    "plt.bar(range(len(h_denoised)), h_denoised)"
   ]
  },
  {
   "cell_type": "code",
   "execution_count": null,
   "metadata": {},
   "outputs": [],
   "source": []
  },
  {
   "cell_type": "code",
   "execution_count": null,
   "metadata": {},
   "outputs": [],
   "source": [
    "# Optimize but use regularization on ambient level z\n"
   ]
  },
  {
   "cell_type": "code",
   "execution_count": 226,
   "metadata": {
    "ExecuteTime": {
     "end_time": "2019-07-26T23:52:39.646073Z",
     "start_time": "2019-07-26T23:52:38.752052Z"
    }
   },
   "outputs": [
    {
     "name": "stdout",
     "output_type": "stream",
     "text": [
      "1\n"
     ]
    },
    {
     "data": {
      "text/plain": [
       "<BarContainer object of 68 artists>"
      ]
     },
     "execution_count": 226,
     "metadata": {},
     "output_type": "execute_result"
    },
    {
     "data": {
      "image/png": "[encoded data removed]",
      "text/plain": [
       "<Figure size 432x288 with 1 Axes>"
      ]
     },
     "metadata": {
      "needs_background": "light"
     },
     "output_type": "display_data"
    },
    {
     "data": {
      "image/png": "[encoded data removed]",
      "text/plain": [
       "<Figure size 432x288 with 1 Axes>"
      ]
     },
     "metadata": {
      "needs_background": "light"
     },
     "output_type": "display_data"
    }
   ],
   "source": [
    "import sklearn.mixture as skmix\n",
    "def remove_dc_from_spad_gmm(h):\n",
    "    assert len(h.shape) == 1\n",
    "    h_hist_hist, cutoffs = np.histogram(h, bins=len(h)//2)\n",
    "#     plt.bar(range(N//2), h_hist_hist)\n",
    "    model = skmix.GaussianMixture(n_components=2)\n",
    "    classes = model.fit_predict(h_hist_hist.reshape(-1,1))\n",
    "    i = np.argmax(np.abs(np.diff(classes)))\n",
    "#     print(i+1)\n",
    "#     np.sum(h <= cutoffs[i+1])\n",
    "    dc = np.mean(h[h <= cutoffs[i+1]])\n",
    "    h[h <= cutoffs[i+1]] = 0.\n",
    "    h = h.astype('float') - dc\n",
    "#     plt.figure()\n",
    "#     plt.bar(range(len(h)), h, log=True)\n",
    "    return h"
   ]
  },
  {
   "cell_type": "code",
   "execution_count": 191,
   "metadata": {
    "ExecuteTime": {
     "end_time": "2019-07-26T05:05:37.356089Z",
     "start_time": "2019-07-26T05:05:37.349685Z"
    }
   },
   "outputs": [],
   "source": [
    "# plt.bar(range(N), signal, log=True)\n",
    "# plt.figure()\n",
    "# plt.bar(range(N), h, log=True)\n",
    "# plt.title(\"h\")\n",
    "# plt.ylim(1e0, 1e5)\n",
    "# plt.figure()\n",
    "# plt.bar(range(N), h - np.min(h), log=True)\n",
    "def anscombe(x):\n",
    "    return 2*np.sqrt(x + 3./8)\n",
    "def inv_anscombe(x):\n",
    "    return (x/2)**2 - 3./8\n",
    "h_ans = anscombe(h)\n",
    "# Apply median filter to remove Gaussian Noise\n",
    "h_ans_filt = scipy.signal.medfilt(h_ans, kernel_size=7)\n",
    "# Apply Inverse Anscombe Transform\n",
    "h_eq = inv_anscombe(h_ans_filt)\n",
    "# plt.figure()\n",
    "# plt.bar(range(N), h_eq - np.min(h_eq), log=True)"
   ]
  },
  {
   "cell_type": "code",
   "execution_count": 196,
   "metadata": {
    "ExecuteTime": {
     "end_time": "2019-07-26T05:07:09.648110Z",
     "start_time": "2019-07-26T05:07:08.861839Z"
    }
   },
   "outputs": [
    {
     "name": "stdout",
     "output_type": "stream",
     "text": [
      "\n",
      "ECOS 2.0.7 - (C) embotech GmbH, Zurich Switzerland, 2012-15. Web: www.embotech.com/ECOS\n",
      "\n",
      "It     pcost       dcost      gap   pres   dres    k/t    mu     step   sigma     IR    |   BT\n",
      " 0  +0.000e+00  -1.972e+01  +3e+02  8e-01  1e+00  1e+00  1e+00    ---    ---    0  0  - |  -  - \n",
      " 1  -1.541e+02  -1.714e+02  +8e+01  6e-01  1e+00  3e+00  3e-01  0.7131  5e-03   1  1  1 |  0  1\n",
      " 2  -9.279e+02  -9.335e+02  +2e+01  6e-01  1e+00  2e+01  7e-02  0.7833  2e-02   1  1  1 |  1  1\n",
      " 3  -2.065e+03  -2.055e+03  +9e+00  6e-01  1e+00  3e+01  3e-02  0.6266  2e-01   1  1  1 |  3  2\n",
      " 4  -3.651e+03  -3.623e+03  +5e+00  6e-01  1e+00  5e+01  2e-02  0.9791  6e-01   1  1  1 |  8  0\n",
      " 5  -9.329e+03  -9.231e+03  +2e+00  6e-01  1e+00  1e+02  8e-03  0.6266  7e-02   1  1  1 |  2  2\n",
      " 6  -1.856e+04  -1.837e+04  +1e+00  6e-01  1e+00  2e+02  4e-03  0.9791  5e-01   1  1  1 |  7  0\n",
      " 7  -4.126e+04  -4.082e+04  +5e-01  6e-01  1e+00  5e+02  2e-03  0.6266  1e-01   1  1  1 |  3  2\n",
      " 8  -8.025e+04  -7.943e+04  +3e-01  7e-01  1e+00  8e+02  1e-03  0.9791  5e-01   1  1  1 |  7  0\n",
      " 9  -1.746e+05  -1.728e+05  +1e-01  7e-01  1e+00  2e+03  5e-04  0.6266  1e-01   1  1  1 |  3  2\n",
      "10  -3.957e+05  -3.918e+05  +6e-02  7e-01  1e+00  4e+03  2e-04  0.9791  4e-01   1  1  1 |  6  0\n",
      "11  -7.393e+05  -7.324e+05  +3e-02  7e-01  1e+00  7e+03  1e-04  0.6266  2e-01   1  1  1 |  4  2\n",
      "12  -1.090e+06  -1.081e+06  +2e-02  7e-01  9e-01  9e+03  7e-05  0.9791  7e-01   1  1  1 |  9  0\n",
      "13  -2.434e+06  -2.415e+06  +8e-03  6e-01  9e-01  2e+04  3e-05  0.6266  7e-02   1  1  1 |  2  2\n",
      "14  -3.637e+06  -3.615e+06  +5e-03  6e-01  8e-01  2e+04  2e-05  0.9791  6e-01   1  1  1 |  8  0\n",
      "15  -5.914e+06  -5.890e+06  +2e-03  5e-01  6e-01  2e+04  9e-06  0.6266  2e-01   1  1  1 |  3  2\n",
      "16  -7.487e+06  -7.470e+06  +1e-03  4e-01  4e-01  2e+04  5e-06  0.9791  6e-01   1  1  1 |  4  0\n",
      "17  -9.324e+06  -9.315e+06  +5e-04  3e-01  2e-01  9e+03  2e-06  0.6266  4e-02   1  1  1 |  1  2\n",
      "18  -1.039e+07  -1.039e+07  +5e-05  3e-02  2e-02  1e+03  2e-07  0.9476  4e-02   1  1  1 |  1  0\n",
      "19  -1.045e+07  -1.044e+07  +2e-05  2e-02  1e-02  7e+02  9e-08  0.5335  1e-01   2  1  1 |  0  2\n",
      "20  -1.049e+07  -1.049e+07  +6e-06  4e-03  3e-03  2e+02  2e-08  0.7790  3e-02   1  1  1 |  1  1\n",
      "21  -1.048e+07  -1.048e+07  +2e-06  2e-03  1e-03  7e+01  7e-09  0.6266  5e-02   2  1  1 |  2  2\n",
      "22  -1.048e+07  -1.048e+07  +8e-07  8e-04  4e-04  3e+01  3e-09  0.5923  5e-02   1  1  1 |  2  2\n",
      "23  -1.048e+07  -1.048e+07  +2e-07  2e-04  1e-04  6e+00  6e-10  0.8217  5e-02   1  1  1 |  1  0\n",
      "24  -1.048e+07  -1.048e+07  +7e-08  8e-05  5e-05  3e+00  3e-10  0.6508  2e-01   1  1  1 |  0  1\n",
      "25  -1.048e+07  -1.048e+07  +6e-09  6e-06  3e-06  2e-01  2e-11  0.9386  1e-02   2  1  1 |  0  0\n",
      "26  -1.048e+07  -1.048e+07  +4e-09  5e-06  3e-06  2e-01  1e-11  0.3208  4e-01   1  0  0 |  6  5\n",
      "27  -1.048e+07  -1.048e+07  +2e-09  2e-06  1e-06  6e-02  6e-12  0.6266  6e-02   1  0  0 |  2  2\n",
      "28  -1.048e+07  -1.048e+07  +4e-10  4e-07  2e-07  1e-02  1e-12  0.7828  1e-04   1  1  1 |  0  1\n",
      "29  -1.048e+07  -1.048e+07  +8e-11  1e-07  6e-08  3e-03  3e-13  0.7833  1e-02   1  1  1 |  1  1\n",
      "30  -1.048e+07  -1.048e+07  +4e-11  6e-08  3e-08  2e-03  2e-13  0.5013  1e-01   1  1  1 |  3  3\n",
      "31  -1.048e+07  -1.048e+07  +3e-12  2e-09  9e-10  5e-05  1e-14  0.9791  9e-03   1  1  1 |  1  0\n",
      "\n",
      "OPTIMAL (within feastol=1.9e-09, reltol=3.2e-19, abstol=3.3e-12).\n",
      "Runtime: 0.010145 seconds.\n",
      "\n",
      "b [1485.79008699]\n",
      "true b 1470.5882352941176\n",
      "x error 126.69693443082608\n"
     ]
    },
    {
     "data": {
      "image/png": "[encoded data removed]",
      "text/plain": [
       "<Figure size 432x288 with 1 Axes>"
      ]
     },
     "metadata": {
      "needs_background": "light"
     },
     "output_type": "display_data"
    }
   ],
   "source": [
    "x = cp.Variable((N,), \"signal\")\n",
    "b = cp.Variable((1,), \"dc\")\n",
    "lam = 1e-1\n",
    "# lam2 = 1e-1\n",
    "obj = -noisy_signal*cp.log(b + x) + cp.sum(b + x) + lam*cp.norm(x, 2) # + lam2*cp.norm(cp.diff(x), 1)\n",
    "constr = [b >= 0, x >= 0]\n",
    "prob = cp.Problem(cp.Minimize(obj), constr)\n",
    "prob.solve(verbose=True)\n",
    "plt.bar(range(N), x.value, log=True)\n",
    "plt.ylim(1e0, 1e5)\n",
    "# plt.plot(range(N), np.mean(x.value)*np.ones(N))\n",
    "print(\"b\", b.value)\n",
    "print(\"true b\", dc_photons/N)\n",
    "print(\"x error\", np.sqrt(np.mean((x.value*np.sum(signal)/np.sum(x.value) - signal)**2)))"
   ]
  },
  {
   "cell_type": "code",
   "execution_count": 152,
   "metadata": {
    "ExecuteTime": {
     "end_time": "2019-07-26T00:21:02.706464Z",
     "start_time": "2019-07-26T00:21:02.698323Z"
    }
   },
   "outputs": [
    {
     "data": {
      "text/plain": [
       "989992.1874772719"
      ]
     },
     "execution_count": 152,
     "metadata": {},
     "output_type": "execute_result"
    }
   ],
   "source": [
    "np.sum(x.value)"
   ]
  },
  {
   "cell_type": "code",
   "execution_count": 153,
   "metadata": {
    "ExecuteTime": {
     "end_time": "2019-07-26T00:21:03.729236Z",
     "start_time": "2019-07-26T00:21:03.701881Z"
    }
   },
   "outputs": [
    {
     "data": {
      "text/plain": [
       "1000000.0"
      ]
     },
     "execution_count": 153,
     "metadata": {},
     "output_type": "execute_result"
    }
   ],
   "source": [
    "np.sum(signal)"
   ]
  },
  {
   "cell_type": "code",
   "execution_count": null,
   "metadata": {},
   "outputs": [],
   "source": []
  }
 ],
 "metadata": {
  "kernelspec": {
   "display_name": "Python 3",
   "language": "python",
   "name": "python3"
  },
  "language_info": {
   "codemirror_mode": {
    "name": "ipython",
    "version": 3
   },
   "file_extension": ".py",
   "mimetype": "text/x-python",
   "name": "python",
   "nbconvert_exporter": "python",
   "pygments_lexer": "ipython3",
   "version": "3.6.5"
  }
 },
 "nbformat": 4,
 "nbformat_minor": 2
}
